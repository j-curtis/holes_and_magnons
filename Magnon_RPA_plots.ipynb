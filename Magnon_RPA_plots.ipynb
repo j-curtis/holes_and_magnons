{
 "cells": [
  {
   "cell_type": "code",
   "execution_count": 1,
   "id": "f8a83367-9336-4e8a-8030-9f1fbdbff003",
   "metadata": {},
   "outputs": [],
   "source": [
    "import magnonRPA as rpa\n",
    "import numpy as np\n",
    "\n",
    "from matplotlib import pyplot as plt \n",
    "from matplotlib import colors as mclr\n",
    "from matplotlib import colormaps as cmaps\n",
    "\n",
    "import time\n",
    "\n",
    "### Plotting settings \n",
    "#plt.rc('figure', dpi=100)\n",
    "#plt.rc('figure',figsize=(4,1.7))\n",
    "plt.rc('font', family = 'Times New Roman')\n",
    "plt.rc('font', size = 14)\n",
    "plt.rc('text', usetex=True)\n",
    "plt.rc('xtick', labelsize=14)\n",
    "plt.rc('ytick', labelsize=14)\n",
    "plt.rc('axes', labelsize=18)\n",
    "plt.rc('lines', linewidth=2.5)\n",
    "\n",
    "saveFigs = False ### Option to save figures or not \n",
    "\n",
    "figDirectory = \"../figures/\" ### Figures are stored in this folder\n",
    "dataDirectory = \"../data/\" ### Data is loaded from and stored to this folder\n"
   ]
  },
  {
   "cell_type": "markdown",
   "id": "a5c251af-d753-4060-9a36-b967b3b4254c",
   "metadata": {},
   "source": [
    "## Load in spectral function"
   ]
  },
  {
   "cell_type": "code",
   "execution_count": 38,
   "id": "989d9ccc-08dc-49e6-af70-578c25f0454e",
   "metadata": {},
   "outputs": [
    {
     "name": "stdout",
     "output_type": "stream",
     "text": [
      "Nkx,Nky,Nw:  40 40 10001\n",
      "dw:  0.00999999999999801\n"
     ]
    }
   ],
   "source": [
    "### Location of hole spectral functions\n",
    "holesDirectory = dataDirectory+\"hole_spectra/05052025/2ksamples/\" \n",
    "holesFile = holesDirectory+\"jon_request_0.05\" \n",
    "\n",
    "#holesFile = dataDirectory+\"/hole_spectra/03252025/Hole_Spectral_functionJz0.05_alfa0.999_Nx20_Ny20\" \n",
    "\n",
    "### Load in spectral function\n",
    "kxs,kys,ws,A = rpa.load_hole_spectrum(holesFile)\n",
    "### If this is true we will use a fictious box spectral function\n",
    "useBox = True\n",
    "\n",
    "if useBox:\n",
    "    W = 2.*rpa.t\n",
    "    Nkx = 40\n",
    "    Nky = 40\n",
    "    Nw = 10001\n",
    "    \n",
    "    kxs = np.linspace(0.,2.*np.pi,Nkx,endpoint=False)\n",
    "    kys = np.linspace(0.,2.*np.pi,Nky,endpoint=False)\n",
    "    ws = np.linspace(-50.,50.,Nw)\n",
    "    A = rpa.gen_box_A(kxs,kys,ws,W)\n",
    "    \n",
    "### Useful to make vectorized grids and keep track of sizes of arrays\n",
    "kxvs,kyvs,wvs = np.meshgrid(kxs,kys,ws)\n",
    "Nkx = len(kxs)\n",
    "Nky = len(kys)\n",
    "Nw = len(ws)\n",
    "dw = ws[1]-ws[0]\n",
    "print(\"Nkx,Nky,Nw: \", Nkx,Nky,Nw)\n",
    "print(\"dw: \",dw)\n",
    "\n",
    "KK_matrix = rpa.KK_matrix(ws)"
   ]
  },
  {
   "cell_type": "markdown",
   "id": "511536d4-f1e0-4f18-926c-ffa9f6e6c52f",
   "metadata": {},
   "source": [
    "## Plot hole spectrum"
   ]
  },
  {
   "cell_type": "code",
   "execution_count": 39,
   "id": "6090b445-fc01-424b-b1bb-286dab71a6c6",
   "metadata": {},
   "outputs": [
    {
     "data": {
      "image/png": "[encoded data removed]",
      "text/plain": [
       "<Figure size 640x480 with 2 Axes>"
      ]
     },
     "metadata": {},
     "output_type": "display_data"
    },
    {
     "data": {
      "image/png": "[encoded data removed]",
      "text/plain": [
       "<Figure size 640x480 with 1 Axes>"
      ]
     },
     "metadata": {},
     "output_type": "display_data"
    }
   ],
   "source": [
    "### Plot spectral function for a cut\n",
    "plt.imshow(np.transpose(A[:,0,:]),extent=[kxs[0],kxs[-1],ws[0],ws[-1]],origin='lower',cmap='magma',aspect=1.5)\n",
    "plt.colorbar()\n",
    "plt.ylim(-4.*rpa.t,-0.*rpa.t)\n",
    "plt.xlabel(r'$k_x$')\n",
    "plt.ylabel(r'$\\omega/t$')\n",
    "plt.xticks([0,np.pi/2.,np.pi,3.*np.pi/2.,2.*np.pi],[r'0',r'$\\pi/2$',r'$\\pi$',r'$3\\pi/2$',r'$2\\pi$'])\n",
    "plt.show()\n",
    "\n",
    "plt.plot(ws/rpa.t,A[0,0,:],'.')\n",
    "plt.ylabel(r'$A(\\omega,0)$')\n",
    "plt.xlabel(r'$\\omega/t$')\n",
    "plt.xlim(-1,-.5)\n",
    "plt.show()"
   ]
  },
  {
   "cell_type": "markdown",
   "id": "3b6eb520-e545-4f69-929c-8effe4573c79",
   "metadata": {},
   "source": [
    "## Set parameters and computing doping"
   ]
  },
  {
   "cell_type": "code",
   "execution_count": 40,
   "id": "88ebaddc-27fd-469b-a0b2-23828e0ead16",
   "metadata": {},
   "outputs": [
    {
     "name": "stdout",
     "output_type": "stream",
     "text": [
      "Hole doping: 8.75%\n",
      "J/t used in LSWT: 0.50\n"
     ]
    }
   ],
   "source": [
    "T = 0.001*rpa.t ### temperature\n",
    "U = 8.*rpa.t ### Hubbard U (used to compute J)\n",
    "J = 4.*rpa.t**2/U ### Superexchange J\n",
    "#mu = -2.6*rpa.t ### Chemical potential (controls doping)\n",
    "#mu = -1.55*rpa.t\n",
    "mu = -0.82*rpa.t\n",
    "\n",
    "### Compute doping\n",
    "delta = rpa.calc_density(kxs,kys,ws,A,mu,T)\n",
    "print(\"Hole doping: {d:0.2%}\".format(d=delta))\n",
    "print(\"J/t used in LSWT: {jt:0.2f}\".format(jt=J/rpa.t))"
   ]
  },
  {
   "cell_type": "markdown",
   "id": "1bb7ab2e-39ed-4b18-a5d8-11af94a6dced",
   "metadata": {},
   "source": [
    "## Now we compute the RPA kernel and magnon propagator"
   ]
  },
  {
   "cell_type": "code",
   "execution_count": 41,
   "id": "c89d5746-754a-4361-9b32-9c06e17e2c55",
   "metadata": {},
   "outputs": [
    {
     "name": "stdout",
     "output_type": "stream",
     "text": [
      "Time for RPA:  302.8301329612732 s\n",
      "Time for Kramers-Kronig:  165.7943480014801 s\n"
     ]
    }
   ],
   "source": [
    "### Calculate RPA spectra from hole spectra \n",
    "t0 = time.time()\n",
    "ImPi = rpa.calc_ImPi(kxs,kys,ws,A,mu,T)\n",
    "if useBox: ImPi_analytic = rpa.box_ImPi(kxs,kys,ws,W,mu)\n",
    "t1 = time.time()\n",
    "Pi = rpa.Kramers_Kronig_precomputed(KK_matrix,ImPi)\n",
    "if useBox: Pi_analytic = rpa.Kramers_Kronig_precomputed(KK_matrix,ImPi)\n",
    "t2 = time.time()\n",
    "\n",
    "print(\"Time for RPA: \",t1-t0,\"s\")\n",
    "print(\"Time for Kramers-Kronig: \",t2-t1,\"s\")"
   ]
  },
  {
   "cell_type": "code",
   "execution_count": null,
   "id": "9be95cfc-fe0f-4e4f-818b-6bdb5153a534",
   "metadata": {},
   "outputs": [],
   "source": [
    "t2 = time.time()\n",
    "magnon_kernel=rpa.RPA_kernel(kxs,kys,ws,Pi,J)\n",
    "magnon_propagator = rpa.RPA_propagator_analytic(kxs,kys,ws,Pi,J)\n",
    "if useBox: magnon_propagator_analytic = rpa.RPA_propagator(kxs,kys,ws,Pi_analytic,J)\n",
    "t3 = time.time()\n",
    "spectrum = rpa.RPA_spectrum(kxs,kys,ws,magnon_propagator)\n",
    "if useBox: spectrum_analytic = rpa.RPA_spectrum(kxs,kys,ws,magnon_propagator_analytic)\n",
    "t4 = time.time()\n",
    "sum_rule = np.sum(spectrum,axis=-1)*dw \n",
    "if useBox: sum_rule_analytic = np.sum(spectrum_analytic,axis=-1)*dw \n",
    "\n",
    "print(\"Time for forming and inverting kernel: \",t3-t2,\"s\")\n",
    "print(\"Time for computing spectrum: \",t4-t3,\"s\")"
   ]
  },
  {
   "cell_type": "markdown",
   "id": "0a8d2719-086f-4c09-91c8-6f081727b064",
   "metadata": {},
   "source": [
    "## Plotting and various diagonostics"
   ]
  },
  {
   "cell_type": "code",
   "execution_count": null,
   "id": "758728ce-c888-4657-8d85-38b81629fd34",
   "metadata": {},
   "outputs": [],
   "source": [
    "### Frequency dependence of Pi for kx cut \n",
    "labels = [ [ r'$\\Pi_{00}$',r'$\\Pi_{01}$'],[ r'$\\Pi_{10}$',r'$\\Pi_{11}$'] ] \n",
    "for i in range(2):\n",
    "    for j in range(2):\n",
    "        plt.imshow(np.transpose(np.imag(Pi[i,j,:,0,:])),origin='lower',extent=[kxs[0],kxs[-1],ws[0],ws[-1]],aspect=0.4,cmap='coolwarm')\n",
    "        plt.xlabel(r'$q_x$')\n",
    "        plt.xticks([0,np.pi/2.,np.pi,3.*np.pi/2.,2.*np.pi],[r'0',r'$\\pi/2$',r'$\\pi$',r'$3\\pi/2$',r'$2\\pi$'])\n",
    "        plt.ylabel(r'$\\omega/t$')\n",
    "        plt.colorbar()\n",
    "        plt.title(r'Im'+labels[i][j])\n",
    "        plt.show()\n",
    "        \n",
    "        plt.imshow(np.transpose(np.real(Pi[i,j,:,0,:])),origin='lower',extent=[kxs[0],kxs[-1],ws[0],ws[-1]],aspect=0.4,cmap='coolwarm')\n",
    "        plt.xlabel(r'$q_x$')\n",
    "        plt.xticks([0,np.pi/2.,np.pi,3.*np.pi/2.,2.*np.pi],[r'0',r'$\\pi/2$',r'$\\pi$',r'$3\\pi/2$',r'$2\\pi$'])\n",
    "        plt.ylabel(r'$\\omega/t$')\n",
    "        plt.colorbar()\n",
    "        plt.title(r'Re'+labels[i][j])\n",
    "        plt.show()"
   ]
  },
  {
   "cell_type": "code",
   "execution_count": null,
   "id": "cd5cdabb-61aa-4b9e-9b5b-3ed89bbbc639",
   "metadata": {},
   "outputs": [],
   "source": [
    "### Spectral function frequency cuts\n",
    "indices = [[-10,-10], [-10,0],[-5,0],[0,0],[5,0],[10,0],[10,10]]\n",
    "clrs = cmaps['coolwarm'](np.linspace(0.,1.,len(indices)))\n",
    "label_strings = [ r'$\\mathbf{q}=($'+\"{qx:0.1f}\".format(qx=kxs[i[0]]/np.pi) + r'$\\pi,$' + \"{qy:0.1f}\".format(qy=kys[i[1]]/np.pi) + r'$\\pi)$'  for i in indices]\n",
    "\n",
    "for a in range(2):\n",
    "    for b in range(2):\n",
    "        for j in range(len(indices)):\n",
    "            i = indices[j]\n",
    "            plt.plot(rpa.gen_magnon_freqs(ws), np.imag(Pi[a,b,i[0],i[1],:]),label=label_strings[j],color=clrs[j])\n",
    "        plt.xlabel(r'$\\omega/J$')\n",
    "        plt.ylabel(r'Im$\\Pi$ component: '+str(a)+\" \"+str(b))\n",
    "        plt.legend()\n",
    "        plt.show()\n"
   ]
  },
  {
   "cell_type": "code",
   "execution_count": null,
   "id": "023886f4-4c06-4cce-ae99-5bc9da147104",
   "metadata": {},
   "outputs": [],
   "source": [
    "indices = [[5,0],[10,0],[5,5]]\n",
    "clrs = cmaps['coolwarm'](np.linspace(0.,1.,len(indices)))\n",
    "label_strings = [ r'$\\mathbf{q}=($'+\"{qx:0.1f}\".format(qx=kxs[i[0]]/np.pi) + r'$\\pi,$' + \"{qy:0.1f}\".format(qy=kys[i[1]]/np.pi) + r'$\\pi)$'  for i in indices]\n",
    "\n",
    "for j in range(len(indices)):\n",
    "    i = indices[j]\n",
    "    plt.plot(rpa.gen_magnon_freqs(ws)/rpa.t, -np.imag(magnon_propagator[0,0,i[0],i[1],:]),label=label_strings[j],color=clrs[j])\n",
    "plt.xlim(-5.,5.)\n",
    "#plt.axvline(2.,color='gray',linestyle='dotted')\n",
    "plt.xlabel(r'$\\omega/J$')\n",
    "plt.ylabel(r'$S(\\omega,\\mathbf{q})/J$')\n",
    "plt.legend()\n",
    "#plt.yscale('log')\n",
    "#plt.ylim(-.1,.1)\n",
    "plt.show()\n",
    "\n",
    "for j in range(len(indices)):\n",
    "    i = indices[j]\n",
    "    plt.plot(rpa.gen_magnon_freqs(ws)/rpa.t, -np.imag(magnon_propagator[1,1,i[0],i[1],:]),label=label_strings[j],color=clrs[j])\n",
    "plt.xlim(-5.,5.)\n",
    "#plt.axvline(2.,color='gray',linestyle='dotted')\n",
    "plt.xlabel(r'$\\omega/J$')\n",
    "plt.ylabel(r'$S(\\omega,\\mathbf{q})/J$')\n",
    "plt.legend()\n",
    "#plt.yscale('log')\n",
    "#plt.ylim(-.1,.1)\n",
    "plt.show()\n",
    "\n",
    "for j in range(len(indices)):\n",
    "    i = indices[j]\n",
    "    plt.plot(rpa.gen_magnon_freqs(ws)/rpa.t, -np.imag(magnon_propagator[0,1,i[0],i[1],:]),label=label_strings[j],color=clrs[j])\n",
    "plt.xlim(-5.,5.)\n",
    "#plt.axvline(2.,color='gray',linestyle='dotted')\n",
    "plt.xlabel(r'$\\omega/J$')\n",
    "plt.ylabel(r'$S(\\omega,\\mathbf{q})/J$')\n",
    "plt.legend()\n",
    "#plt.yscale('log')\n",
    "#plt.ylim(-.1,.1)\n",
    "plt.show()\n",
    "\n",
    "for j in range(len(indices)):\n",
    "    i = indices[j]\n",
    "    plt.plot(rpa.gen_magnon_freqs(ws)/rpa.t, -np.imag(magnon_propagator[1,0,i[0],i[1],:]),label=label_strings[j],color=clrs[j])\n",
    "plt.xlim(-5.,5.)\n",
    "#plt.axvline(2.,color='gray',linestyle='dotted')\n",
    "plt.xlabel(r'$\\omega/J$')\n",
    "plt.ylabel(r'$S(\\omega,\\mathbf{q})/J$')\n",
    "plt.legend()\n",
    "#plt.yscale('log')\n",
    "#plt.ylim(-.1,.1)\n",
    "plt.show()\n",
    "\n",
    "for j in range(len(indices)):\n",
    "    i = indices[j]\n",
    "    plt.plot(rpa.gen_magnon_freqs(ws)/rpa.t, -np.imag(magnon_propagator[0,0,i[0],i[1],:]),label=label_strings[j],color=clrs[j])\n",
    "    plt.plot(rpa.gen_magnon_freqs(ws)/rpa.t, np.imag(magnon_propagator[1,1,i[0],i[1],:]),label=label_strings[j],color=clrs[j],linestyle='dashed')\n",
    "plt.xlim(-5.,5.)\n",
    "#plt.axvline(2.,color='gray',linestyle='dotted')\n",
    "plt.xlabel(r'$\\omega/J$')\n",
    "plt.ylabel(r'$S(\\omega,\\mathbf{q})/J$')\n",
    "plt.legend()\n",
    "#plt.yscale('log')\n",
    "#plt.ylim(-.1,.1)\n",
    "plt.show()"
   ]
  },
  {
   "cell_type": "code",
   "execution_count": null,
   "id": "8a4b481d",
   "metadata": {},
   "outputs": [],
   "source": [
    "### Spectral function frequency cuts\n",
    "\n",
    "indices = [[1,0],[5,0],[10,0],[5,5],[10,10]]\n",
    "clrs = cmaps['coolwarm'](np.linspace(0.,1.,len(indices)))\n",
    "label_strings = [ r'$\\mathbf{q}=($'+\"{qx:0.1f}\".format(qx=kxs[i[0]]/np.pi) + r'$\\pi,$' + \"{qy:0.1f}\".format(qy=kys[i[1]]/np.pi) + r'$\\pi)$'  for i in indices]\n",
    "\n",
    "for j in range(len(indices)):\n",
    "    i = indices[j]\n",
    "    print(kxs[i[0]]/np.pi,kys[i[1]]/np.pi)\n",
    "    print(np.sum(spectrum[i[0],i[1],:])*dw)\n",
    "    plt.plot(rpa.gen_magnon_freqs(ws)/rpa.t, spectrum[i[0],i[1],:],label=label_strings[j],color=clrs[j])\n",
    "plt.xlabel(r'$\\omega/J$')\n",
    "plt.ylabel(r'$S(\\omega,\\mathbf{q})/J$')\n",
    "plt.legend()\n",
    "plt.yscale('log')\n",
    "plt.show()\n"
   ]
  },
  {
   "cell_type": "code",
   "execution_count": null,
   "id": "aab14821-ba02-4cde-862b-fd06b3f33072",
   "metadata": {},
   "outputs": [],
   "source": [
    "scale = mclr.LogNorm()\n",
    "#scale = mclr.Normalize(0.,10.)\n",
    "#scale = None\n",
    "\n",
    "plt.imshow(np.transpose(spectrum[:,0,:]),origin='lower',extent=[kxs[0],kxs[-1],ws[0]/J,ws[-1]/J],cmap='magma',aspect=.4,norm=scale)\n",
    "plt.ylabel(r'$\\omega/J$')\n",
    "plt.ylim(-4,4)\n",
    "plt.xlabel(r'$q_x$')\n",
    "plt.xticks([0,np.pi/2.,np.pi,3.*np.pi/2.,2.*np.pi],[r'0',r'$\\pi/2$',r'$\\pi$',r'$3\\pi/2$',r'$2\\pi$'])\n",
    "plt.colorbar()\n",
    "plt.title(r'$\\delta = $'+\"{:0.1%}\".format(delta))\n",
    "if saveFigs: plt.savefig(figDirectory+\"/Magnon_spectrum.pdf\",bbox_inches='tight')\n",
    "plt.show()\n",
    "\n",
    "\n",
    "plt.imshow(np.transpose(spectrum[:,10,:]),origin='lower',extent=[kxs[0],kxs[-1],ws[0]/J,ws[-1]/J],cmap='magma',aspect=.4,norm=scale)\n",
    "plt.ylabel(r'$\\omega/J$')\n",
    "plt.ylim(-4,4)\n",
    "plt.xlabel(r'$q_x$')\n",
    "plt.xticks([0,np.pi/2.,np.pi,3.*np.pi/2.,2.*np.pi],[r'0',r'$\\pi/2$',r'$\\pi$',r'$3\\pi/2$',r'$2\\pi$'])\n",
    "plt.colorbar()\n",
    "plt.title(r'$\\delta = $'+\"{:0.1%}\".format(delta))\n",
    "if saveFigs: plt.savefig(figDirectory+\"/Magnon_spectrum.pdf\",bbox_inches='tight')\n",
    "plt.show()"
   ]
  },
  {
   "cell_type": "code",
   "execution_count": null,
   "id": "991c953f-e876-4709-914b-3557b3673017",
   "metadata": {},
   "outputs": [],
   "source": [
    "plt.imshow(np.transpose(np.sum(spectrum,axis=-1)*dw),origin='lower',extent=[kxs[0],kxs[-1],kys[0],kys[-1]],aspect=1,cmap='magma')\n",
    "plt.xlabel(r'$q_x$')\n",
    "plt.xticks([0,np.pi/2.,np.pi,3.*np.pi/2.,2.*np.pi],[r'0',r'$\\pi/2$',r'$\\pi$',r'$3\\pi/2$',r'$2\\pi$'])\n",
    "plt.ylabel(r'$q_y$')\n",
    "plt.yticks([0,np.pi/2.,np.pi,3.*np.pi/2.,2.*np.pi],[r'0',r'$\\pi/2$',r'$\\pi$',r'$3\\pi/2$',r'$2\\pi$'])\n",
    "plt.colorbar()\n",
    "plt.title(r'$\\delta = $'+\"{:0.1%}\".format(delta))\n",
    "plt.show()"
   ]
  },
  {
   "cell_type": "code",
   "execution_count": null,
   "id": "b45ade45-0a43-4abf-83d4-ab7614f3899a",
   "metadata": {},
   "outputs": [],
   "source": []
  },
  {
   "cell_type": "code",
   "execution_count": null,
   "id": "89967565-9305-4eed-b5ee-f76125713219",
   "metadata": {},
   "outputs": [],
   "source": []
  },
  {
   "cell_type": "code",
   "execution_count": null,
   "id": "b6841fa2-19a0-4e73-b9ff-8758177ce784",
   "metadata": {},
   "outputs": [],
   "source": []
  }
 ],
 "metadata": {
  "kernelspec": {
   "display_name": "Python 3 (ipykernel)",
   "language": "python",
   "name": "python3"
  },
  "language_info": {
   "codemirror_mode": {
    "name": "ipython",
    "version": 3
   },
   "file_extension": ".py",
   "mimetype": "text/x-python",
   "name": "python",
   "nbconvert_exporter": "python",
   "pygments_lexer": "ipython3",
   "version": "3.8.18"
  }
 },
 "nbformat": 4,
 "nbformat_minor": 5
}
