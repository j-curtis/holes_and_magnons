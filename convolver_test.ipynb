{
 "cells": [
  {
   "cell_type": "code",
   "execution_count": 440,
   "id": "2f9ae1b8-07bf-4493-bb55-85a5cd16a77c",
   "metadata": {},
   "outputs": [],
   "source": [
    "import numpy as np\n",
    "import magnonRPA as rpa\n",
    "\n",
    "from matplotlib import pyplot as plt \n",
    "from matplotlib import colors as mclr\n",
    "from matplotlib import colormaps as cmaps\n",
    "\n",
    "import time"
   ]
  },
  {
   "cell_type": "code",
   "execution_count": 441,
   "id": "24ef3d30-9668-4626-b70c-8f8a476c33e4",
   "metadata": {},
   "outputs": [],
   "source": [
    "def correlator_PBC(f,g):\n",
    "    \"\"\"Accepts arrays f,g w/shape (Nx,Nky,Nw) and returns the circular autocorrelation with automatically zero-padded last axis.\n",
    "    Precisely this retuns z[i,j,k] = sum_{l,m,n} x[l,m,n] * y[i+l,j+m,k+n] padded appropriately on last axis.\n",
    "    Finally, this shifts the frequencies to the center again at the end. \n",
    "    If number of passed frequencies is even this will generate an extra frequency point at zero to make the result Nw+1.\n",
    "    \"\"\"\n",
    "    pad_size = f.shape[-1]\n",
    "    \n",
    "    f_padded = np.pad(f,( (0,0),(0,0),(pad_size,pad_size) ) ) \n",
    "    g_padded = np.pad(g,( (0,0),(0,0),(pad_size,pad_size) ) )  \n",
    "\n",
    "    ### Now we take the FFT of both arrays \n",
    "    f_fft = np.fft.fftn(f_padded)\n",
    "    g_fft = np.fft.fftn(g_padded)\n",
    "    \n",
    "    ### Next we take an element-wise product \n",
    "    ### conjugate to compute correlation instead of convolution\n",
    "    h_fft = f_fft*np.conjugate(g_fft) \n",
    "\n",
    "    ### Now we transform back\n",
    "    h_padded = np.fft.ifftn(h_fft)\n",
    "    h_padded_size = h_padded.shape[-1]\n",
    "\n",
    "    ### Roll and chop\n",
    "    ### We want to roll so that the zero frequency is in the middle \n",
    "    h = np.fft.fftshift(h_padded,axes=-1)\n",
    "    if pad_size % 2 ==0 :\n",
    "        h = h[:,:,pad_size:(h_padded_size-pad_size+1)] ### We chop to get odd size with zero in middle\n",
    "\n",
    "    else:\n",
    "        h = h[:,:,pad_size:(h_padded_size-pad_size)]\n",
    "    \n",
    "    return np.real(h)"
   ]
  },
  {
   "cell_type": "code",
   "execution_count": 442,
   "id": "4d12361d-07ab-4a94-af40-dcdfc649459f",
   "metadata": {},
   "outputs": [],
   "source": [
    "Nx = 40\n",
    "Ny = 40\n",
    "Nz = 10\n",
    "x = np.linspace(0.,2.*np.pi,Nx,endpoint=False)\n",
    "y = np.linspace(0.,2.*np.pi,Ny,endpoint=False)\n",
    "z = np.linspace(-5.,5.,Nz)\n",
    "\n",
    "dz = z[1]-z[0]"
   ]
  },
  {
   "cell_type": "code",
   "execution_count": 443,
   "id": "c5125a8d-6095-4a30-a00a-87cc104e37e4",
   "metadata": {},
   "outputs": [],
   "source": [
    "xs,ys,zs = np.meshgrid(x,y,z)"
   ]
  },
  {
   "cell_type": "code",
   "execution_count": 444,
   "id": "ec64982d-5cbc-4d1c-8e27-ac17c826ee23",
   "metadata": {},
   "outputs": [],
   "source": [
    "def A1g(x,y):\n",
    "    return 0.5*np.cos(x) +0.5*np.cos(y)"
   ]
  },
  {
   "cell_type": "code",
   "execution_count": 445,
   "id": "6c193e13-1572-496c-a70c-baa4f60141b0",
   "metadata": {},
   "outputs": [
    {
     "name": "stdout",
     "output_type": "stream",
     "text": [
      "(40, 40, 11)\n",
      "5\n"
     ]
    }
   ],
   "source": [
    "a1g = A1g(xs,ys)\n",
    "gaussian = np.exp(-zs**2)\n",
    "\n",
    "f = a1g*gaussian\n",
    "g = f.copy()\n",
    "\n",
    "h = correlator_PBC(f,g)*dz/float(Nx*Ny)\n",
    "print(h.shape)\n",
    "print(np.argmax(h))\n",
    "h_rpa = rpa.correlator_PBC(f,g)*dz/float(Nx*Ny)\n",
    "\n",
    "h_analytic = 0.25*a1g*np.sqrt(np.pi/2.*gaussian)"
   ]
  },
  {
   "cell_type": "code",
   "execution_count": 447,
   "id": "d84f3257-8c4c-4dc7-a056-2f6c92e04db4",
   "metadata": {},
   "outputs": [
    {
     "data": {
      "image/png": "[encoded data removed]",
      "text/plain": [
       "<Figure size 640x480 with 1 Axes>"
      ]
     },
     "metadata": {},
     "output_type": "display_data"
    }
   ],
   "source": [
    "plt.plot(h[0,0,:],'x')\n",
    "plt.plot(h_analytic[0,0,:])\n",
    "plt.show()"
   ]
  },
  {
   "cell_type": "code",
   "execution_count": 450,
   "id": "c18ae738-1481-42f7-9536-94db1ad8ea4e",
   "metadata": {},
   "outputs": [],
   "source": [
    "ws = np.linspace(-10.,10.,20)\n",
    "dw = ws[1] - ws[0]"
   ]
  },
  {
   "cell_type": "code",
   "execution_count": 454,
   "id": "8df52f87-cc4c-4b24-bea8-c0d6d268895b",
   "metadata": {},
   "outputs": [],
   "source": [
    "ws_new = np.concatenate((ws,[ws[-1]+dw]))"
   ]
  },
  {
   "cell_type": "code",
   "execution_count": 456,
   "id": "2c031d55-d3bc-4c58-bc2d-3e919f2d841c",
   "metadata": {},
   "outputs": [],
   "source": [
    "ws_new += - dw/2."
   ]
  },
  {
   "cell_type": "code",
   "execution_count": 457,
   "id": "83222628-78e3-4434-9df2-645e855a1960",
   "metadata": {},
   "outputs": [
    {
     "data": {
      "text/plain": [
       "array([-1.05263158e+01, -9.47368421e+00, -8.42105263e+00, -7.36842105e+00,\n",
       "       -6.31578947e+00, -5.26315789e+00, -4.21052632e+00, -3.15789474e+00,\n",
       "       -2.10526316e+00, -1.05263158e+00, -8.88178420e-16,  1.05263158e+00,\n",
       "        2.10526316e+00,  3.15789474e+00,  4.21052632e+00,  5.26315789e+00,\n",
       "        6.31578947e+00,  7.36842105e+00,  8.42105263e+00,  9.47368421e+00,\n",
       "        1.05263158e+01])"
      ]
     },
     "execution_count": 457,
     "metadata": {},
     "output_type": "execute_result"
    }
   ],
   "source": [
    "ws_new"
   ]
  },
  {
   "cell_type": "code",
   "execution_count": null,
   "id": "014efb2c-e731-4850-ba81-042af21a8780",
   "metadata": {},
   "outputs": [],
   "source": []
  }
 ],
 "metadata": {
  "kernelspec": {
   "display_name": "Python 3 (ipykernel)",
   "language": "python",
   "name": "python3"
  },
  "language_info": {
   "codemirror_mode": {
    "name": "ipython",
    "version": 3
   },
   "file_extension": ".py",
   "mimetype": "text/x-python",
   "name": "python",
   "nbconvert_exporter": "python",
   "pygments_lexer": "ipython3",
   "version": "3.8.18"
  }
 },
 "nbformat": 4,
 "nbformat_minor": 5
}
